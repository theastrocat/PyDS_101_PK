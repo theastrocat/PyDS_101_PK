{
 "cells": [
  {
   "cell_type": "markdown",
   "metadata": {},
   "source": [
    "# Part 1:\n",
    "## The Jupyter Notebook"
   ]
  },
  {
   "cell_type": "markdown",
   "metadata": {},
   "source": [
    "The Jupyter Notebook was developed as an interactive scripting development space. The supported languages originally were Julia, Python and R, which is where it got its name. The current running list of supported language kernels can be found [here](https://github.com/jupyter/jupyter/wiki/Jupyter-kernels)."
   ]
  },
  {
   "cell_type": "markdown",
   "metadata": {},
   "source": [
    "The basic idea is the notebook exists in a series of \"cells\" and each cell can be run in-sequence to test and develop your code. A notebook's scope is the notebook (read kernel) itself which means all global variables declared can be referenced throughout the notebook in any order."
   ]
  },
  {
   "cell_type": "markdown",
   "metadata": {},
   "source": [
    "There are two modes when interacting with Jupyter, command mode, and edit mode. \n",
    "\n",
    "`Clicking` -- On a cell will select it.\n",
    "\n",
    "`Enter` -- Moves into edit mode for the selected cell where you can type.\n",
    "\n",
    "`Esc` -- Moves you back out into command mode.\n",
    "\n",
    "`Shift + Enter` -- Will run the selected cell in either mode (note: `alt` or `ctrl` + `Enter` will run cells with different results, check the help dialog for info.)"
   ]
  },
  {
   "cell_type": "markdown",
   "metadata": {},
   "source": [
    "### Useful Commands:\n",
    "In command mode:\n",
    "* `h` Will show you the command mode help.\n",
    "* `a` Will create a cell above the selected cell.\n",
    "* `b` Will create a cell below the selected cell.\n",
    "* `x` Will delete a cell (technically it is \"cut\" but same results)."
   ]
  },
  {
   "cell_type": "markdown",
   "metadata": {},
   "source": [
    "Everything in cells are ran \"in-line\" and work very similar to autonomous scripts. A standard practice is to build and test with Jupyter Notebook and then deploy by scripting in a text based editor (creating a `.py` file) and running it from command line."
   ]
  },
  {
   "cell_type": "code",
   "execution_count": 153,
   "metadata": {},
   "outputs": [
    {
     "name": "stdout",
     "output_type": "stream",
     "text": [
      "Hello World!\n"
     ]
    }
   ],
   "source": [
    "print(\"Hello World!\")"
   ]
  },
  {
   "cell_type": "code",
   "execution_count": 2,
   "metadata": {},
   "outputs": [
    {
     "data": {
      "text/plain": [
       "32"
      ]
     },
     "execution_count": 2,
     "metadata": {},
     "output_type": "execute_result"
    }
   ],
   "source": [
    "x"
   ]
  },
  {
   "cell_type": "code",
   "execution_count": 1,
   "metadata": {
    "collapsed": true
   },
   "outputs": [],
   "source": [
    "x = 32"
   ]
  },
  {
   "cell_type": "code",
   "execution_count": null,
   "metadata": {
    "collapsed": true
   },
   "outputs": [],
   "source": []
  }
 ],
 "metadata": {
  "kernelspec": {
   "display_name": "Python 3",
   "language": "python",
   "name": "python3"
  },
  "language_info": {
   "codemirror_mode": {
    "name": "ipython",
    "version": 3
   },
   "file_extension": ".py",
   "mimetype": "text/x-python",
   "name": "python",
   "nbconvert_exporter": "python",
   "pygments_lexer": "ipython3",
   "version": "3.6.3"
  }
 },
 "nbformat": 4,
 "nbformat_minor": 2
}
